{
 "cells": [
  {
   "cell_type": "markdown",
   "metadata": {},
   "source": [
    "# Web Scraping News Headlines from CNBC Using BeautifulSoup"
   ]
  },
  {
   "cell_type": "markdown",
   "metadata": {},
   "source": [
    "Original Website: https://www.cnbc.com/sp-500/"
   ]
  },
  {
   "cell_type": "code",
   "execution_count": 1,
   "metadata": {},
   "outputs": [],
   "source": [
    "import requests\n",
    "\n",
    "URL = 'https://www.cnbc.com/sp-500/'\n",
    "page = requests.get(URL)"
   ]
  },
  {
   "cell_type": "code",
   "execution_count": 2,
   "metadata": {},
   "outputs": [],
   "source": [
    "from bs4 import BeautifulSoup\n",
    "\n",
    "soup = BeautifulSoup(page.content, 'html.parser')\n",
    "results = soup.find_all(\"div\", {\"class\": \"stories-lineup bigHeader\"})\n",
    "results = results[0] # since there's only one \"stories-lineup bigHeader\" class per page"
   ]
  },
  {
   "cell_type": "markdown",
   "metadata": {},
   "source": [
    "## Examples"
   ]
  },
  {
   "cell_type": "code",
   "execution_count": 3,
   "metadata": {
    "scrolled": true
   },
   "outputs": [],
   "source": [
    "temp = results.find_all(\"li\")"
   ]
  },
  {
   "cell_type": "code",
   "execution_count": 4,
   "metadata": {},
   "outputs": [
    {
     "data": {
      "text/plain": [
       "'Jim Cramer: A better way to invest in the Covid-19 vaccine gold rush'"
      ]
     },
     "execution_count": 4,
     "metadata": {},
     "output_type": "execute_result"
    }
   ],
   "source": [
    "temp[0].find(\"div\", {\"class\": \"headline\"}).get_text().strip()"
   ]
  },
  {
   "cell_type": "code",
   "execution_count": 5,
   "metadata": {},
   "outputs": [
    {
     "data": {
      "text/plain": [
       "' 7:51  PM ET Fri, 17 July 2020'"
      ]
     },
     "execution_count": 5,
     "metadata": {},
     "output_type": "execute_result"
    }
   ],
   "source": [
    "temp[0].find(\"time\").get_text()"
   ]
  },
  {
   "cell_type": "code",
   "execution_count": 6,
   "metadata": {},
   "outputs": [
    {
     "data": {
      "text/plain": [
       "'\"Mad Money\" host Jim Cramer recommended buying four companies that are supporting vaccine developers.'"
      ]
     },
     "execution_count": 6,
     "metadata": {},
     "output_type": "execute_result"
    }
   ],
   "source": [
    "temp[0].find(\"p\", {\"class\": \"desc\"}).get_text()"
   ]
  },
  {
   "cell_type": "code",
   "execution_count": 7,
   "metadata": {},
   "outputs": [
    {
     "data": {
      "text/plain": [
       "\"Cramer's lightning round: I would own Teradyne\""
      ]
     },
     "execution_count": 7,
     "metadata": {},
     "output_type": "execute_result"
    }
   ],
   "source": [
    "temp[1].find(\"div\", {\"class\": \"headline\"}).get_text().strip()"
   ]
  },
  {
   "cell_type": "code",
   "execution_count": 8,
   "metadata": {},
   "outputs": [
    {
     "data": {
      "text/plain": [
       "' 7:33  PM ET Fri, 17 July 2020'"
      ]
     },
     "execution_count": 8,
     "metadata": {},
     "output_type": "execute_result"
    }
   ],
   "source": [
    "temp[1].find(\"time\").get_text()"
   ]
  },
  {
   "cell_type": "code",
   "execution_count": 9,
   "metadata": {},
   "outputs": [
    {
     "data": {
      "text/plain": [
       "'\"Mad Money\" host Jim Cramer rings the lightning round bell, which means he\\'s giving his answers to callers\\' stock questions at rapid speed.'"
      ]
     },
     "execution_count": 9,
     "metadata": {},
     "output_type": "execute_result"
    }
   ],
   "source": [
    "temp[1].find(\"p\", {\"class\": \"desc\"}).get_text()"
   ]
  },
  {
   "cell_type": "markdown",
   "metadata": {},
   "source": [
    "## Functions to avoid Commercial Containers"
   ]
  },
  {
   "cell_type": "code",
   "execution_count": 10,
   "metadata": {},
   "outputs": [],
   "source": [
    "def headline_try_except(var):\n",
    "    try:\n",
    "        return var.find(\"div\", {\"class\": \"headline\"}).get_text().strip()\n",
    "    except AttributeError:\n",
    "        pass\n",
    "\n",
    "def time_try_except(var):\n",
    "    try:\n",
    "        return var.find(\"time\").get_text()\n",
    "    except AttributeError:\n",
    "        pass\n",
    "    \n",
    "def text_try_except(var):\n",
    "    try:\n",
    "        return var.find(\"p\", {\"class\": \"desc\"}).get_text()\n",
    "    except AttributeError:\n",
    "        pass"
   ]
  },
  {
   "cell_type": "markdown",
   "metadata": {},
   "source": [
    "## Loop"
   ]
  },
  {
   "cell_type": "code",
   "execution_count": 11,
   "metadata": {
    "scrolled": true
   },
   "outputs": [],
   "source": [
    "meta = []\n",
    "for i in range(1, 141):\n",
    "    currURL = URL + \"?page=\" + str(i)\n",
    "    page = requests.get(currURL)\n",
    "    soup = BeautifulSoup(page.content, 'html.parser')\n",
    "    results = soup.find_all(\"div\", {\"class\": \"stories-lineup bigHeader\"})\n",
    "    results = results[0]\n",
    "    items = results.find_all(\"li\")\n",
    "    for item in items:\n",
    "        arr = []\n",
    "        arr.append(headline_try_except(item))\n",
    "        arr.append(time_try_except(item))\n",
    "        arr.append(text_try_except(item))\n",
    "        meta.append(arr)"
   ]
  },
  {
   "cell_type": "code",
   "execution_count": 12,
   "metadata": {},
   "outputs": [
    {
     "data": {
      "text/html": [
       "<div>\n",
       "<style scoped>\n",
       "    .dataframe tbody tr th:only-of-type {\n",
       "        vertical-align: middle;\n",
       "    }\n",
       "\n",
       "    .dataframe tbody tr th {\n",
       "        vertical-align: top;\n",
       "    }\n",
       "\n",
       "    .dataframe thead th {\n",
       "        text-align: right;\n",
       "    }\n",
       "</style>\n",
       "<table border=\"1\" class=\"dataframe\">\n",
       "  <thead>\n",
       "    <tr style=\"text-align: right;\">\n",
       "      <th></th>\n",
       "      <th>Headlines</th>\n",
       "      <th>Time</th>\n",
       "      <th>Description</th>\n",
       "    </tr>\n",
       "  </thead>\n",
       "  <tbody>\n",
       "    <tr>\n",
       "      <th>0</th>\n",
       "      <td>Jim Cramer: A better way to invest in the Covi...</td>\n",
       "      <td>7:51  PM ET Fri, 17 July 2020</td>\n",
       "      <td>\"Mad Money\" host Jim Cramer recommended buying...</td>\n",
       "    </tr>\n",
       "    <tr>\n",
       "      <th>1</th>\n",
       "      <td>Cramer's lightning round: I would own Teradyne</td>\n",
       "      <td>7:33  PM ET Fri, 17 July 2020</td>\n",
       "      <td>\"Mad Money\" host Jim Cramer rings the lightnin...</td>\n",
       "    </tr>\n",
       "    <tr>\n",
       "      <th>2</th>\n",
       "      <td>None</td>\n",
       "      <td>None</td>\n",
       "      <td>None</td>\n",
       "    </tr>\n",
       "    <tr>\n",
       "      <th>3</th>\n",
       "      <td>Cramer's week ahead: Big week for earnings, ev...</td>\n",
       "      <td>7:25  PM ET Fri, 17 July 2020</td>\n",
       "      <td>\"We'll pay more for the earnings of the non-Co...</td>\n",
       "    </tr>\n",
       "    <tr>\n",
       "      <th>4</th>\n",
       "      <td>IQ Capital CEO Keith Bliss says tech and healt...</td>\n",
       "      <td>4:24  PM ET Fri, 17 July 2020</td>\n",
       "      <td>Keith Bliss, IQ Capital CEO, joins \"Closing Be...</td>\n",
       "    </tr>\n",
       "    <tr>\n",
       "      <th>...</th>\n",
       "      <td>...</td>\n",
       "      <td>...</td>\n",
       "      <td>...</td>\n",
       "    </tr>\n",
       "    <tr>\n",
       "      <th>3075</th>\n",
       "      <td>Markets lack Christmas cheer</td>\n",
       "      <td>10:15  AM ET Tue, 26 Dec 2017</td>\n",
       "      <td>According to Kensho, here's how markets have f...</td>\n",
       "    </tr>\n",
       "    <tr>\n",
       "      <th>3076</th>\n",
       "      <td>Cramer Remix: The biggest mistake you can make...</td>\n",
       "      <td>11:12  AM ET Thu, 20 Sept 2018</td>\n",
       "      <td>Jim Cramer revealed his top rule when it comes...</td>\n",
       "    </tr>\n",
       "    <tr>\n",
       "      <th>3077</th>\n",
       "      <td>Cramer says owning too many stocks and too lit...</td>\n",
       "      <td>7:07  PM ET Fri, 22 Dec 2017</td>\n",
       "      <td>Jim Cramer broke down why owning fewer stocks ...</td>\n",
       "    </tr>\n",
       "    <tr>\n",
       "      <th>3078</th>\n",
       "      <td>Cramer: I helped investors through the 2010 fl...</td>\n",
       "      <td>7:07  PM ET Fri, 22 Dec 2017</td>\n",
       "      <td>Jim Cramer built on his \"nobody ever made a di...</td>\n",
       "    </tr>\n",
       "    <tr>\n",
       "      <th>3079</th>\n",
       "      <td>Cramer: Never buy a stock all at once — you'll...</td>\n",
       "      <td>6:52  PM ET Fri, 22 Dec 2017</td>\n",
       "      <td>Jim Cramer doubled down on his key investing r...</td>\n",
       "    </tr>\n",
       "  </tbody>\n",
       "</table>\n",
       "<p>3080 rows × 3 columns</p>\n",
       "</div>"
      ],
      "text/plain": [
       "                                              Headlines  \\\n",
       "0     Jim Cramer: A better way to invest in the Covi...   \n",
       "1        Cramer's lightning round: I would own Teradyne   \n",
       "2                                                  None   \n",
       "3     Cramer's week ahead: Big week for earnings, ev...   \n",
       "4     IQ Capital CEO Keith Bliss says tech and healt...   \n",
       "...                                                 ...   \n",
       "3075                       Markets lack Christmas cheer   \n",
       "3076  Cramer Remix: The biggest mistake you can make...   \n",
       "3077  Cramer says owning too many stocks and too lit...   \n",
       "3078  Cramer: I helped investors through the 2010 fl...   \n",
       "3079  Cramer: Never buy a stock all at once — you'll...   \n",
       "\n",
       "                                Time  \\\n",
       "0      7:51  PM ET Fri, 17 July 2020   \n",
       "1      7:33  PM ET Fri, 17 July 2020   \n",
       "2                               None   \n",
       "3      7:25  PM ET Fri, 17 July 2020   \n",
       "4      4:24  PM ET Fri, 17 July 2020   \n",
       "...                              ...   \n",
       "3075   10:15  AM ET Tue, 26 Dec 2017   \n",
       "3076  11:12  AM ET Thu, 20 Sept 2018   \n",
       "3077    7:07  PM ET Fri, 22 Dec 2017   \n",
       "3078    7:07  PM ET Fri, 22 Dec 2017   \n",
       "3079    6:52  PM ET Fri, 22 Dec 2017   \n",
       "\n",
       "                                            Description  \n",
       "0     \"Mad Money\" host Jim Cramer recommended buying...  \n",
       "1     \"Mad Money\" host Jim Cramer rings the lightnin...  \n",
       "2                                                  None  \n",
       "3     \"We'll pay more for the earnings of the non-Co...  \n",
       "4     Keith Bliss, IQ Capital CEO, joins \"Closing Be...  \n",
       "...                                                 ...  \n",
       "3075  According to Kensho, here's how markets have f...  \n",
       "3076  Jim Cramer revealed his top rule when it comes...  \n",
       "3077  Jim Cramer broke down why owning fewer stocks ...  \n",
       "3078  Jim Cramer built on his \"nobody ever made a di...  \n",
       "3079  Jim Cramer doubled down on his key investing r...  \n",
       "\n",
       "[3080 rows x 3 columns]"
      ]
     },
     "execution_count": 12,
     "metadata": {},
     "output_type": "execute_result"
    }
   ],
   "source": [
    "import pandas as pd\n",
    "df = pd.DataFrame.from_records(meta)\n",
    "df.columns = [\"Headlines\", \"Time\", \"Description\"]\n",
    "df"
   ]
  },
  {
   "cell_type": "code",
   "execution_count": 13,
   "metadata": {},
   "outputs": [
    {
     "name": "stdout",
     "output_type": "stream",
     "text": [
      "<class 'pandas.core.frame.DataFrame'>\n",
      "RangeIndex: 3080 entries, 0 to 3079\n",
      "Data columns (total 3 columns):\n",
      " #   Column       Non-Null Count  Dtype \n",
      "---  ------       --------------  ----- \n",
      " 0   Headlines    2800 non-null   object\n",
      " 1   Time         2800 non-null   object\n",
      " 2   Description  2800 non-null   object\n",
      "dtypes: object(3)\n",
      "memory usage: 72.3+ KB\n"
     ]
    }
   ],
   "source": [
    "df.info()"
   ]
  },
  {
   "cell_type": "markdown",
   "metadata": {},
   "source": [
    "## Export Data"
   ]
  },
  {
   "cell_type": "code",
   "execution_count": 14,
   "metadata": {},
   "outputs": [],
   "source": [
    "df.to_csv(\"cnbc_headlines.csv\", index = False)"
   ]
  },
  {
   "cell_type": "code",
   "execution_count": null,
   "metadata": {},
   "outputs": [],
   "source": []
  }
 ],
 "metadata": {
  "kernelspec": {
   "display_name": "Python 3",
   "language": "python",
   "name": "python3"
  },
  "language_info": {
   "codemirror_mode": {
    "name": "ipython",
    "version": 3
   },
   "file_extension": ".py",
   "mimetype": "text/x-python",
   "name": "python",
   "nbconvert_exporter": "python",
   "pygments_lexer": "ipython3",
   "version": "3.8.3"
  }
 },
 "nbformat": 4,
 "nbformat_minor": 4
}
