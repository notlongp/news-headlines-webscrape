{
 "cells": [
  {
   "cell_type": "code",
   "execution_count": 59,
   "metadata": {},
   "outputs": [],
   "source": [
    "import requests\n",
    "# \"https://www.theguardian.com/business/all?page=1\"\n",
    "URL = 'https://www.theguardian.com/business/all'\n",
    "page = requests.get(URL)"
   ]
  },
  {
   "cell_type": "code",
   "execution_count": 60,
   "metadata": {},
   "outputs": [],
   "source": [
    "from bs4 import BeautifulSoup\n",
    "\n",
    "soup = BeautifulSoup(page.content, 'html.parser')\n",
    "results = soup.find_all(\"div\", {\"class\": \"fc-container__inner\"})\n",
    "# There are exactly 2 of these <div> every page on the guardian so I will keep the indexing"
   ]
  },
  {
   "cell_type": "code",
   "execution_count": 61,
   "metadata": {},
   "outputs": [
    {
     "name": "stdout",
     "output_type": "stream",
     "text": [
      "10\n",
      "10\n"
     ]
    }
   ],
   "source": [
    "day1 = results[0].find_all(\"div\", {\"class\": \"fc-item__container\"})\n",
    "day2 = results[1].find_all(\"div\", {\"class\": \"fc-item__container\"})\n",
    "print(len(day1))\n",
    "print(len(day2))"
   ]
  },
  {
   "cell_type": "code",
   "execution_count": 62,
   "metadata": {},
   "outputs": [
    {
     "data": {
      "text/plain": [
       "'18 July 2020'"
      ]
     },
     "execution_count": 62,
     "metadata": {},
     "output_type": "execute_result"
    }
   ],
   "source": [
    "results[0].find(\"time\").get_text()"
   ]
  },
  {
   "cell_type": "code",
   "execution_count": 63,
   "metadata": {},
   "outputs": [
    {
     "data": {
      "text/plain": [
       "'‘I now fear the worst’: four grim tales of working life upended by Covid-19'"
      ]
     },
     "execution_count": 63,
     "metadata": {},
     "output_type": "execute_result"
    }
   ],
   "source": [
    "day1[1].find(\"a\").get_text().strip()"
   ]
  },
  {
   "cell_type": "code",
   "execution_count": 75,
   "metadata": {},
   "outputs": [],
   "source": [
    "meta = []\n",
    "for i in range(1, 891):\n",
    "    currURL = URL + \"?page=\" + str(i)\n",
    "    page = requests.get(currURL)\n",
    "    soup = BeautifulSoup(page.content, 'html.parser')\n",
    "    results = soup.find_all(\"div\", {\"class\": \"fc-container__inner\"})\n",
    "    \n",
    "    for result in results:\n",
    "        days = result.find_all(\"div\", {\"class\": \"fc-item__container\"})\n",
    "        for day in days:\n",
    "            arr = []\n",
    "            arr.append(results[0].find(\"time\").get_text())\n",
    "            arr.append(day.find(\"a\").get_text().strip())\n",
    "            meta.append(arr)"
   ]
  },
  {
   "cell_type": "code",
   "execution_count": null,
   "metadata": {
    "scrolled": true
   },
   "outputs": [],
   "source": [
    "import pandas as pd\n",
    "df = pd.DataFrame.from_records(meta)\n",
    "df.columns = [\"Time\", \"Headlines\"]"
   ]
  },
  {
   "cell_type": "code",
   "execution_count": 77,
   "metadata": {},
   "outputs": [],
   "source": [
    "df.to_csv(\"guardian_headlines.csv\", index = False)"
   ]
  },
  {
   "cell_type": "code",
   "execution_count": null,
   "metadata": {},
   "outputs": [],
   "source": []
  }
 ],
 "metadata": {
  "kernelspec": {
   "display_name": "Python 3",
   "language": "python",
   "name": "python3"
  },
  "language_info": {
   "codemirror_mode": {
    "name": "ipython",
    "version": 3
   },
   "file_extension": ".py",
   "mimetype": "text/x-python",
   "name": "python",
   "nbconvert_exporter": "python",
   "pygments_lexer": "ipython3",
   "version": "3.8.3"
  }
 },
 "nbformat": 4,
 "nbformat_minor": 4
}
